{
  "nbformat": 4,
  "nbformat_minor": 0,
  "metadata": {
    "colab": {
      "provenance": [],
      "authorship_tag": "ABX9TyOjiCuYfFnlCLPBfg/hSGek",
      "include_colab_link": true
    },
    "kernelspec": {
      "name": "python3",
      "display_name": "Python 3"
    },
    "language_info": {
      "name": "python"
    }
  },
  "cells": [
    {
      "cell_type": "markdown",
      "metadata": {
        "id": "view-in-github",
        "colab_type": "text"
      },
      "source": [
        "<a href=\"https://colab.research.google.com/github/trivedidharmik/cs3735/blob/main/Trivedi_Dharmik_Asmt4.ipynb\" target=\"_parent\"><img src=\"https://colab.research.google.com/assets/colab-badge.svg\" alt=\"Open In Colab\"/></a>"
      ]
    },
    {
      "cell_type": "code",
      "execution_count": null,
      "metadata": {
        "id": "KOOW-gmoVijp"
      },
      "outputs": [],
      "source": [
        "import numpy as np\n",
        "import tensorflow as tf\n",
        "from tensorflow.keras.models import Sequential\n",
        "from tensorflow.keras.layers import Conv2D, MaxPooling2D, Dense, Dropout, Flatten\n",
        "from tensorflow.keras.utils import to_categorical\n",
        "from tensorflow.keras.datasets import mnist\n",
        "import matplotlib.pyplot as plt\n",
        "import pandas as pd\n",
        "\n",
        "# Load MNIST data from TensorFlow\n",
        "(x_train, y_train), (x_test, y_test) = mnist.load_data()\n",
        "\n",
        "# Use a subset of the training data for faster experiments\n",
        "subset_size = 10000\n",
        "x_train = x_train[:subset_size]\n",
        "y_train = y_train[:subset_size]\n",
        "\n",
        "# Reshape to add a channel dimension and normalize pixel values\n",
        "x_train = x_train.reshape(-1, 28, 28, 1).astype('float32') / 255.0\n",
        "x_test  = x_test.reshape(-1, 28, 28, 1).astype('float32') / 255.0\n",
        "\n",
        "# One-hot encode the labels for 10 classes (digits 0-9)\n",
        "y_train = to_categorical(y_train, num_classes=10)\n",
        "y_test  = to_categorical(y_test, num_classes=10)\n"
      ]
    },
    {
      "cell_type": "code",
      "source": [
        "# 10 different experiment configurations with variations in architecture and hyperparameters.\n",
        "experiments = [\n",
        "    {\n",
        "        'name': 'Exp 1',\n",
        "        'conv_layers': 2,\n",
        "        'filters': [32, 64],\n",
        "        'kernel_sizes': [(3, 3), (3, 3)],\n",
        "        'dense_units': 128,\n",
        "        'dropout': [0.25, 0.5],\n",
        "        'batch_size': 128,\n",
        "        'epochs': 3,\n",
        "        'optimizer': 'adam'\n",
        "    },\n",
        "    {\n",
        "        'name': 'Exp 2',\n",
        "        'conv_layers': 2,\n",
        "        'filters': [16, 32],\n",
        "        'kernel_sizes': [(5, 5), (5, 5)],\n",
        "        'dense_units': 64,\n",
        "        'dropout': [0.2, 0.4],\n",
        "        'batch_size': 64,\n",
        "        'epochs': 3,\n",
        "        'optimizer': 'rmsprop'\n",
        "    },\n",
        "    {\n",
        "        'name': 'Exp 3',\n",
        "        'conv_layers': 3,\n",
        "        'filters': [32, 64, 128],\n",
        "        'kernel_sizes': [(3, 3), (3, 3), (3, 3)],\n",
        "        'dense_units': 128,\n",
        "        'dropout': [0.25, 0.5],\n",
        "        'batch_size': 128,\n",
        "        'epochs': 3,\n",
        "        'optimizer': 'adam'\n",
        "    },\n",
        "    {\n",
        "        'name': 'Exp 4',\n",
        "        'conv_layers': 2,\n",
        "        'filters': [64, 128],\n",
        "        'kernel_sizes': [(3, 3), (3, 3)],\n",
        "        'dense_units': 256,\n",
        "        'dropout': [0.3, 0.5],\n",
        "        'batch_size': 128,\n",
        "        'epochs': 3,\n",
        "        'optimizer': 'sgd'\n",
        "    },\n",
        "    {\n",
        "        'name': 'Exp 5',\n",
        "        'conv_layers': 1,\n",
        "        'filters': [32],\n",
        "        'kernel_sizes': [(3, 3)],\n",
        "        'dense_units': 128,\n",
        "        'dropout': [0.5],\n",
        "        'batch_size': 256,\n",
        "        'epochs': 3,\n",
        "        'optimizer': 'adam'\n",
        "    },\n",
        "    {\n",
        "        'name': 'Exp 6',\n",
        "        'conv_layers': 2,\n",
        "        'filters': [32, 64],\n",
        "        'kernel_sizes': [(3, 3), (3, 3)],\n",
        "        'dense_units': 128,\n",
        "        'dropout': [0.25, 0.5],\n",
        "        'batch_size': 128,\n",
        "        'epochs': 3,\n",
        "        'optimizer': 'adam'\n",
        "    },\n",
        "    {\n",
        "        'name': 'Exp 7',\n",
        "        'conv_layers': 2,\n",
        "        'filters': [32, 64],\n",
        "        'kernel_sizes': [(3, 3), (3, 3)],\n",
        "        'dense_units': 128,\n",
        "        'dropout': [0.25, 0.5],\n",
        "        'batch_size': 128,\n",
        "        'epochs': 3,\n",
        "        'optimizer': 'sgd'\n",
        "    },\n",
        "    {\n",
        "        'name': 'Exp 8',\n",
        "        'conv_layers': 2,\n",
        "        'filters': [32, 64],\n",
        "        'kernel_sizes': [(5, 5), (5, 5)],\n",
        "        'dense_units': 128,\n",
        "        'dropout': [0.25, 0.5],\n",
        "        'batch_size': 128,\n",
        "        'epochs': 3,\n",
        "        'optimizer': 'adam'\n",
        "    },\n",
        "    {\n",
        "        'name': 'Exp 9',\n",
        "        'conv_layers': 3,\n",
        "        'filters': [32, 64, 64],\n",
        "        'kernel_sizes': [(3, 3), (3, 3), (3, 3)],\n",
        "        'dense_units': 128,\n",
        "        'dropout': [0.25, 0.5],\n",
        "        'batch_size': 128,\n",
        "        'epochs': 3,\n",
        "        'optimizer': 'sgd'\n",
        "    },\n",
        "    {\n",
        "        'name': 'Exp 10',\n",
        "        'conv_layers': 2,\n",
        "        'filters': [32, 64],\n",
        "        'kernel_sizes': [(3, 3), (3, 3)],\n",
        "        'dense_units': 64,\n",
        "        'dropout': [0.2, 0.4],\n",
        "        'batch_size': 64,\n",
        "        'epochs': 3,\n",
        "        'optimizer': 'rmsprop'\n",
        "    }\n",
        "]\n"
      ],
      "metadata": {
        "id": "og54okHGgnel"
      },
      "execution_count": null,
      "outputs": []
    },
    {
      "cell_type": "code",
      "source": [
        "def build_model(config):\n",
        "    model = Sequential()\n",
        "    input_shape = (28, 28, 1)\n",
        "\n",
        "    # First convolutional layer with the input shape\n",
        "    model.add(Conv2D(config['filters'][0],\n",
        "                     kernel_size=config['kernel_sizes'][0],\n",
        "                     activation='relu',\n",
        "                     input_shape=input_shape))\n",
        "\n",
        "    # Add additional convolutional layers if specified\n",
        "    for i in range(1, config['conv_layers']):\n",
        "        model.add(Conv2D(config['filters'][i],\n",
        "                         kernel_size=config['kernel_sizes'][i],\n",
        "                         activation='relu'))\n",
        "\n",
        "    # Add a max pooling layer after the last conv layer\n",
        "    if config['conv_layers'] > 0:\n",
        "        model.add(MaxPooling2D(pool_size=(2, 2)))\n",
        "\n",
        "    # Add dropout after pooling if provided (use the first dropout value)\n",
        "    if len(config['dropout']) >= 1:\n",
        "        model.add(Dropout(config['dropout'][0]))\n",
        "\n",
        "    model.add(Flatten())\n",
        "    model.add(Dense(config['dense_units'], activation='relu'))\n",
        "\n",
        "    # Optionally add a second dropout layer after the dense layer\n",
        "    if len(config['dropout']) >= 2:\n",
        "        model.add(Dropout(config['dropout'][1]))\n",
        "\n",
        "    model.add(Dense(10, activation='softmax'))\n",
        "\n",
        "    # Compile the model with categorical crossentropy loss and the specified optimizer\n",
        "    model.compile(loss='categorical_crossentropy',\n",
        "                  optimizer=config['optimizer'],\n",
        "                  metrics=['accuracy'])\n",
        "    return model\n"
      ],
      "metadata": {
        "id": "NRhF4ALvjIFQ"
      },
      "execution_count": null,
      "outputs": []
    },
    {
      "cell_type": "code",
      "source": [
        "results = []  # To store test loss and accuracy for each experiment\n",
        "\n",
        "# Early stopping callback: stops training if validation loss does not improve for 1 epoch.\n",
        "early_stop = tf.keras.callbacks.EarlyStopping(monitor='val_loss', patience=1, restore_best_weights=True)\n",
        "\n",
        "for exp in experiments:\n",
        "    print(f\"Running {exp['name']} ...\")\n",
        "    model = build_model(exp)\n",
        "\n",
        "    # Train the model using 10% of the training data for validation.\n",
        "    history = model.fit(x_train, y_train,\n",
        "                        batch_size=exp['batch_size'],\n",
        "                        epochs=exp['epochs'],\n",
        "                        validation_split=0.1,\n",
        "                        callbacks=[early_stop],\n",
        "                        verbose=0)  # Change verbose to 1 if you want more output\n",
        "\n",
        "    # Evaluate the model on the full test set\n",
        "    test_loss, test_accuracy = model.evaluate(x_test, y_test, verbose=0)\n",
        "    results.append({'Experiment': exp['name'],\n",
        "                    'Test Loss': test_loss,\n",
        "                    'Test Accuracy': test_accuracy})\n",
        "    print(f\"{exp['name']} - Test Accuracy: {test_accuracy:.4f}\")\n"
      ],
      "metadata": {
        "colab": {
          "base_uri": "https://localhost:8080/"
        },
        "id": "2A1z1I5VjJez",
        "outputId": "f707cde6-7273-4048-9d07-c0b513724f0f"
      },
      "execution_count": null,
      "outputs": [
        {
          "output_type": "stream",
          "name": "stdout",
          "text": [
            "Running Exp 1 ...\n"
          ]
        },
        {
          "output_type": "stream",
          "name": "stderr",
          "text": [
            "/usr/local/lib/python3.11/dist-packages/keras/src/layers/convolutional/base_conv.py:107: UserWarning: Do not pass an `input_shape`/`input_dim` argument to a layer. When using Sequential models, prefer using an `Input(shape)` object as the first layer in the model instead.\n",
            "  super().__init__(activity_regularizer=activity_regularizer, **kwargs)\n"
          ]
        },
        {
          "output_type": "stream",
          "name": "stdout",
          "text": [
            "Exp 1 - Test Accuracy: 0.9713\n",
            "Running Exp 2 ...\n",
            "Exp 2 - Test Accuracy: 0.9683\n",
            "Running Exp 3 ...\n",
            "Exp 3 - Test Accuracy: 0.9745\n",
            "Running Exp 4 ...\n",
            "Exp 4 - Test Accuracy: 0.8763\n",
            "Running Exp 5 ...\n",
            "Exp 5 - Test Accuracy: 0.9413\n",
            "Running Exp 6 ...\n",
            "Exp 6 - Test Accuracy: 0.9715\n",
            "Running Exp 7 ...\n",
            "Exp 7 - Test Accuracy: 0.8602\n",
            "Running Exp 8 ...\n",
            "Exp 8 - Test Accuracy: 0.9777\n",
            "Running Exp 9 ...\n",
            "Exp 9 - Test Accuracy: 0.8523\n",
            "Running Exp 10 ...\n",
            "Exp 10 - Test Accuracy: 0.9610\n"
          ]
        }
      ]
    },
    {
      "cell_type": "code",
      "source": [
        "# Convert results to a DataFrame for a summary report\n",
        "df_results = pd.DataFrame(results)\n",
        "print(df_results)\n",
        "\n",
        "# Create a bar plot to compare test accuracies across experiments\n",
        "plt.figure(figsize=(10, 6))\n",
        "plt.bar(df_results['Experiment'], df_results['Test Accuracy'])\n",
        "plt.xlabel(\"Experiment\")\n",
        "plt.ylabel(\"Test Accuracy\")\n",
        "plt.title(\"CNN Experiments on MNIST - Test Accuracy Comparison\")\n",
        "plt.ylim(0.85, 1.0)\n",
        "plt.xticks(rotation=45)\n",
        "plt.show()\n"
      ],
      "metadata": {
        "colab": {
          "base_uri": "https://localhost:8080/",
          "height": 785
        },
        "id": "xfVoAktLjK4E",
        "outputId": "e3f2d086-3ff4-4e70-925a-adc9bc592936"
      },
      "execution_count": null,
      "outputs": [
        {
          "output_type": "stream",
          "name": "stdout",
          "text": [
            "  Experiment  Test Loss  Test Accuracy\n",
            "0      Exp 1   0.091579         0.9713\n",
            "1      Exp 2   0.104471         0.9683\n",
            "2      Exp 3   0.075344         0.9745\n",
            "3      Exp 4   0.440321         0.8763\n",
            "4      Exp 5   0.212675         0.9413\n",
            "5      Exp 6   0.088498         0.9715\n",
            "6      Exp 7   0.523497         0.8602\n",
            "7      Exp 8   0.073225         0.9777\n",
            "8      Exp 9   0.488090         0.8523\n",
            "9     Exp 10   0.121728         0.9610\n"
          ]
        },
        {
          "output_type": "display_data",
          "data": {
            "text/plain": [
              "<Figure size 1000x600 with 1 Axes>"
            ],
            "image/png": "[encoded data removed]"
          },
          "metadata": {}
        }
      ]
    }
  ]
}