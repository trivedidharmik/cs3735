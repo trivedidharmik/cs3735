{
  "nbformat": 4,
  "nbformat_minor": 0,
  "metadata": {
    "colab": {
      "provenance": [],
      "authorship_tag": "ABX9TyOzQBJaTZu+Tjd8SzgZ/p7n",
      "include_colab_link": true
    },
    "kernelspec": {
      "name": "python3",
      "display_name": "Python 3"
    },
    "language_info": {
      "name": "python"
    }
  },
  "cells": [
    {
      "cell_type": "markdown",
      "metadata": {
        "id": "view-in-github",
        "colab_type": "text"
      },
      "source": [
        "<a href=\"https://colab.research.google.com/github/trivedidharmik/cs3735/blob/main/Trivedi_Dharmik_Asmt5Part1.ipynb\" target=\"_parent\"><img src=\"https://colab.research.google.com/assets/colab-badge.svg\" alt=\"Open In Colab\"/></a>"
      ]
    },
    {
      "cell_type": "markdown",
      "source": [
        "# Naïve Bayes Classifier on Three Datasets\n",
        "This notebook applies the Naïve Bayes classifier to the Breast Cancer, Car Evaluation, and Mushroom datasets.\n"
      ],
      "metadata": {
        "id": "IN9RZoi7OIaH"
      }
    },
    {
      "cell_type": "markdown",
      "source": [
        "## 1. Setup Environment\n",
        "Install required packages and import libraries."
      ],
      "metadata": {
        "id": "qhY3nWGCOPwm"
      }
    },
    {
      "cell_type": "code",
      "source": [
        "!pip install ucimlrepo\n",
        "import numpy as np\n",
        "import pandas as pd\n",
        "from ucimlrepo import fetch_ucirepo\n",
        "from sklearn.model_selection import train_test_split\n",
        "from sklearn.naive_bayes import GaussianNB, CategoricalNB\n",
        "from sklearn.preprocessing import LabelEncoder, OrdinalEncoder\n",
        "from sklearn.impute import SimpleImputer\n",
        "from sklearn.metrics import accuracy_score, classification_report, confusion_matrix"
      ],
      "metadata": {
        "colab": {
          "base_uri": "https://localhost:8080/"
        },
        "id": "M7SjmOT2MMXw",
        "outputId": "8a4915a0-313f-459f-e3d4-9ed2e4282d52"
      },
      "execution_count": null,
      "outputs": [
        {
          "output_type": "stream",
          "name": "stdout",
          "text": [
            "Requirement already satisfied: ucimlrepo in /usr/local/lib/python3.11/dist-packages (0.0.7)\n",
            "Requirement already satisfied: pandas>=1.0.0 in /usr/local/lib/python3.11/dist-packages (from ucimlrepo) (2.2.2)\n",
            "Requirement already satisfied: certifi>=2020.12.5 in /usr/local/lib/python3.11/dist-packages (from ucimlrepo) (2025.1.31)\n",
            "Requirement already satisfied: numpy>=1.23.2 in /usr/local/lib/python3.11/dist-packages (from pandas>=1.0.0->ucimlrepo) (2.0.2)\n",
            "Requirement already satisfied: python-dateutil>=2.8.2 in /usr/local/lib/python3.11/dist-packages (from pandas>=1.0.0->ucimlrepo) (2.8.2)\n",
            "Requirement already satisfied: pytz>=2020.1 in /usr/local/lib/python3.11/dist-packages (from pandas>=1.0.0->ucimlrepo) (2025.1)\n",
            "Requirement already satisfied: tzdata>=2022.7 in /usr/local/lib/python3.11/dist-packages (from pandas>=1.0.0->ucimlrepo) (2025.1)\n",
            "Requirement already satisfied: six>=1.5 in /usr/local/lib/python3.11/dist-packages (from python-dateutil>=2.8.2->pandas>=1.0.0->ucimlrepo) (1.17.0)\n"
          ]
        }
      ]
    },
    {
      "cell_type": "markdown",
      "source": [
        "# 2. Breast Cancer Dataset\n",
        "**Target Variable**: Diagnosis (Malignant/Benign)"
      ],
      "metadata": {
        "id": "8R93XmoGOcKy"
      }
    },
    {
      "cell_type": "code",
      "execution_count": null,
      "metadata": {
        "colab": {
          "base_uri": "https://localhost:8080/"
        },
        "id": "RRhK8sA2P5Wg",
        "outputId": "e93a84c6-0153-4062-8650-b9f26e09cdee"
      },
      "outputs": [
        {
          "output_type": "stream",
          "name": "stdout",
          "text": [
            "Breast Cancer Results:\n",
            "Accuracy: 0.9415\n",
            "              precision    recall  f1-score   support\n",
            "\n",
            "           0       0.95      0.96      0.95       108\n",
            "           1       0.93      0.90      0.92        63\n",
            "\n",
            "    accuracy                           0.94       171\n",
            "   macro avg       0.94      0.93      0.94       171\n",
            "weighted avg       0.94      0.94      0.94       171\n",
            "\n",
            "Confusion Matrix:\n",
            " [[104   4]\n",
            " [  6  57]]\n"
          ]
        }
      ],
      "source": [
        "breast_cancer = fetch_ucirepo(id=17)\n",
        "X_bc = breast_cancer.data.features\n",
        "y_bc = breast_cancer.data.targets\n",
        "\n",
        "# Preprocess target\n",
        "le = LabelEncoder()\n",
        "y_bc = le.fit_transform(y_bc['Diagnosis'])\n",
        "\n",
        "# Split data\n",
        "X_train, X_test, y_train, y_test = train_test_split(X_bc, y_bc, test_size=0.3, random_state=42)\n",
        "\n",
        "# Train and evaluate\n",
        "nb = GaussianNB()\n",
        "nb.fit(X_train, y_train)\n",
        "y_pred = nb.predict(X_test)\n",
        "\n",
        "print(\"Breast Cancer Results:\")\n",
        "print(f\"Accuracy: {accuracy_score(y_test, y_pred):.4f}\")\n",
        "print(classification_report(y_test, y_pred))\n",
        "print(\"Confusion Matrix:\\n\", confusion_matrix(y_test, y_pred))"
      ]
    },
    {
      "cell_type": "markdown",
      "source": [
        "#3. Car Evaluation Dataset\n",
        "**Target Variable**: Class (Car Acceptability)"
      ],
      "metadata": {
        "id": "my3MVzmOOnDb"
      }
    },
    {
      "cell_type": "code",
      "source": [
        "car_eval = fetch_ucirepo(id=19)\n",
        "X_car = car_eval.data.features\n",
        "y_car = car_eval.data.targets\n",
        "\n",
        "# Encode features and target\n",
        "encoder = OrdinalEncoder()\n",
        "X_car_encoded = encoder.fit_transform(X_car).astype(int)\n",
        "y_car_encoded = LabelEncoder().fit_transform(y_car['class'])\n",
        "\n",
        "# Split data\n",
        "X_train, X_test, y_train, y_test = train_test_split(\n",
        "    X_car_encoded, y_car_encoded, test_size=0.3, random_state=42)\n",
        "\n",
        "# Train and evaluate\n",
        "nb = CategoricalNB()\n",
        "nb.fit(X_train, y_train)\n",
        "y_pred = nb.predict(X_test)\n",
        "\n",
        "print(\"\\nCar Evaluation Results:\")\n",
        "print(f\"Accuracy: {accuracy_score(y_test, y_pred):.4f}\")\n",
        "print(classification_report(y_test, y_pred))\n",
        "print(\"Confusion Matrix:\\n\", confusion_matrix(y_test, y_pred))"
      ],
      "metadata": {
        "colab": {
          "base_uri": "https://localhost:8080/"
        },
        "id": "pWgAEhFNMfBe",
        "outputId": "a44a37af-8c40-4789-993e-d2c44f006718"
      },
      "execution_count": null,
      "outputs": [
        {
          "output_type": "stream",
          "name": "stdout",
          "text": [
            "\n",
            "Car Evaluation Results:\n",
            "Accuracy: 0.8324\n",
            "              precision    recall  f1-score   support\n",
            "\n",
            "           0       0.65      0.60      0.62       118\n",
            "           1       0.45      0.26      0.33        19\n",
            "           2       0.89      0.97      0.93       358\n",
            "           3       1.00      0.33      0.50        24\n",
            "\n",
            "    accuracy                           0.83       519\n",
            "   macro avg       0.75      0.54      0.60       519\n",
            "weighted avg       0.83      0.83      0.82       519\n",
            "\n",
            "Confusion Matrix:\n",
            " [[ 71   5  42   0]\n",
            " [ 14   5   0   0]\n",
            " [  9   1 348   0]\n",
            " [ 16   0   0   8]]\n"
          ]
        }
      ]
    },
    {
      "cell_type": "markdown",
      "source": [
        "# 4. Mushroom Dataset\n",
        "**Target Variable**: Poisonous (Edible/Poisonous)"
      ],
      "metadata": {
        "id": "P98dfZo1PMPW"
      }
    },
    {
      "cell_type": "code",
      "source": [
        "mushroom = fetch_ucirepo(id=73)\n",
        "X_mush = mushroom.data.features\n",
        "y_mush = mushroom.data.targets\n",
        "\n",
        "# Handle missing values\n",
        "X_mush.replace('?', np.nan, inplace=True)\n",
        "imputer = SimpleImputer(strategy='most_frequent')\n",
        "X_mush_imputed = pd.DataFrame(imputer.fit_transform(X_mush), columns=X_mush.columns)\n",
        "\n",
        "# Encode features and target\n",
        "encoder = OrdinalEncoder()\n",
        "X_mush_encoded = encoder.fit_transform(X_mush_imputed).astype(int)\n",
        "y_mush_encoded = LabelEncoder().fit_transform(y_mush['poisonous'])\n",
        "\n",
        "# Split data\n",
        "X_train, X_test, y_train, y_test = train_test_split(\n",
        "    X_mush_encoded, y_mush_encoded, test_size=0.3, random_state=42)\n",
        "\n",
        "# Train and evaluate\n",
        "nb = CategoricalNB()\n",
        "nb.fit(X_train, y_train)\n",
        "y_pred = nb.predict(X_test)\n",
        "\n",
        "print(\"\\nMushroom Results:\")\n",
        "print(f\"Accuracy: {accuracy_score(y_test, y_pred):.4f}\")\n",
        "print(classification_report(y_test, y_pred))\n",
        "print(\"Confusion Matrix:\\n\", confusion_matrix(y_test, y_pred))"
      ],
      "metadata": {
        "colab": {
          "base_uri": "https://localhost:8080/"
        },
        "id": "1l5-Jh_HMgLW",
        "outputId": "9b208143-7b36-4e1e-9a6e-4e72f1ea5cf8"
      },
      "execution_count": null,
      "outputs": [
        {
          "output_type": "stream",
          "name": "stdout",
          "text": [
            "\n",
            "Mushroom Results:\n",
            "Accuracy: 0.9459\n",
            "              precision    recall  f1-score   support\n",
            "\n",
            "           0       0.91      0.99      0.95      1257\n",
            "           1       0.99      0.90      0.94      1181\n",
            "\n",
            "    accuracy                           0.95      2438\n",
            "   macro avg       0.95      0.94      0.95      2438\n",
            "weighted avg       0.95      0.95      0.95      2438\n",
            "\n",
            "Confusion Matrix:\n",
            " [[1247   10]\n",
            " [ 122 1059]]\n"
          ]
        },
        {
          "output_type": "stream",
          "name": "stderr",
          "text": [
            "<ipython-input-10-b5c07cd8862b>:6: SettingWithCopyWarning: \n",
            "A value is trying to be set on a copy of a slice from a DataFrame\n",
            "\n",
            "See the caveats in the documentation: https://pandas.pydata.org/pandas-docs/stable/user_guide/indexing.html#returning-a-view-versus-a-copy\n",
            "  X_mush.replace('?', np.nan, inplace=True)\n"
          ]
        }
      ]
    }
  ]
}