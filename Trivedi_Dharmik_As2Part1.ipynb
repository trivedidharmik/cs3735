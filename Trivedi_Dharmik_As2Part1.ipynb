{
  "nbformat": 4,
  "nbformat_minor": 0,
  "metadata": {
    "colab": {
      "provenance": [],
      "authorship_tag": "ABX9TyNf9P4sheVEOxpD/EbyQagN",
      "include_colab_link": true
    },
    "kernelspec": {
      "name": "python3",
      "display_name": "Python 3"
    },
    "language_info": {
      "name": "python"
    }
  },
  "cells": [
    {
      "cell_type": "markdown",
      "metadata": {
        "id": "view-in-github",
        "colab_type": "text"
      },
      "source": [
        "<a href=\"https://colab.research.google.com/github/trivedidharmik/cs3735/blob/main/Trivedi_Dharmik_As2Part1.ipynb\" target=\"_parent\"><img src=\"https://colab.research.google.com/assets/colab-badge.svg\" alt=\"Open In Colab\"/></a>"
      ]
    },
    {
      "cell_type": "markdown",
      "source": [
        "Import and load data"
      ],
      "metadata": {
        "id": "K83Rix1sbsST"
      }
    },
    {
      "cell_type": "code",
      "execution_count": null,
      "metadata": {
        "colab": {
          "base_uri": "https://localhost:8080/"
        },
        "id": "zf0G8FoL45cc",
        "outputId": "ea9d593c-5ccd-4049-d2a7-e1a249263b37"
      },
      "outputs": [
        {
          "output_type": "stream",
          "name": "stdout",
          "text": [
            "  lettr  x-box  y-box  width  height  onpix  x-bar  y-bar  x2bar  y2bar  \\\n",
            "0     T      2      8      3       5      1      8     13      0      6   \n",
            "1     I      5     12      3       7      2     10      5      5      4   \n",
            "2     D      4     11      6       8      6     10      6      2      6   \n",
            "3     N      7     11      6       6      3      5      9      4      6   \n",
            "4     G      2      1      3       1      1      8      6      6      6   \n",
            "\n",
            "   xybar  x2ybr  xy2br  x-ege  xegvy  y-ege  yegvx  \n",
            "0      6     10      8      0      8      0      8  \n",
            "1     13      3      9      2      8      4     10  \n",
            "2     10      3      7      3      7      3      9  \n",
            "3      4      4     10      6     10      2      8  \n",
            "4      6      5      9      1      7      5     10  \n"
          ]
        }
      ],
      "source": [
        "import pandas as pd\n",
        "from sklearn.preprocessing import LabelEncoder\n",
        "from sklearn.model_selection import train_test_split\n",
        "from sklearn.tree import DecisionTreeClassifier\n",
        "from sklearn.metrics import accuracy_score, classification_report, confusion_matrix\n",
        "from sklearn.ensemble import RandomForestClassifier\n",
        "\n",
        "url = \"https://archive.ics.uci.edu/ml/machine-learning-databases/letter-recognition/letter-recognition.data\"\n",
        "column_names = [\"lettr\", \"x-box\", \"y-box\", \"width\", \"height\", \"onpix\", \"x-bar\", \"y-bar\", \"x2bar\", \"y2bar\", \"xybar\", \"x2ybr\", \"xy2br\", \"x-ege\", \"xegvy\", \"y-ege\", \"yegvx\"]\n",
        "data = pd.read_csv(url, header=None, names=column_names)\n",
        "\n",
        "print(data.head())"
      ]
    },
    {
      "cell_type": "markdown",
      "source": [
        "Separate features and target"
      ],
      "metadata": {
        "id": "4oeQc5aGbwpm"
      }
    },
    {
      "cell_type": "code",
      "source": [
        "X = data.drop(\"lettr\", axis=1)\n",
        "y = data[\"lettr\"]\n",
        "\n",
        "le = LabelEncoder()\n",
        "yEncoded = le.fit_transform(y)\n",
        "\n",
        "X_train, X_test, y_train, y_test = train_test_split(X, yEncoded, test_size=0.3)"
      ],
      "metadata": {
        "id": "BWyoT8Xg4-ZI"
      },
      "execution_count": null,
      "outputs": []
    },
    {
      "cell_type": "markdown",
      "source": [
        "Train, make predictions and evaluate the decision tree model"
      ],
      "metadata": {
        "id": "sV_AEJs_bzig"
      }
    },
    {
      "cell_type": "code",
      "source": [
        "dtModel = DecisionTreeClassifier()\n",
        "\n",
        "# Train\n",
        "dtModel.fit(X_train, y_train)\n",
        "\n",
        "# Make predictions\n",
        "yPredDt = dtModel.predict(X_test)\n",
        "\n",
        "# Evaluate\n",
        "accuracyDt = accuracy_score(y_test, yPredDt)\n",
        "print(f\"Decision Tree Classifier Accuracy: {accuracyDt:.4f}\")\n",
        "print(\"Classification Report:\\n\", classification_report(y_test, yPredDt, target_names=le.classes_))\n",
        "#print(\"Confusion Matrix:\\n\", confusion_matrix(y_test, yPredDt))"
      ],
      "metadata": {
        "colab": {
          "base_uri": "https://localhost:8080/"
        },
        "id": "w4R88g1T6ddp",
        "outputId": "c1e72fc1-cd75-45f0-b8ca-520d92d81b93"
      },
      "execution_count": null,
      "outputs": [
        {
          "output_type": "stream",
          "name": "stdout",
          "text": [
            "Decision Tree Classifier Accuracy: 0.8663\n",
            "Classification Report:\n",
            "               precision    recall  f1-score   support\n",
            "\n",
            "           A       0.92      0.93      0.93       227\n",
            "           B       0.81      0.79      0.80       229\n",
            "           C       0.90      0.89      0.90       221\n",
            "           D       0.80      0.85      0.83       241\n",
            "           E       0.80      0.84      0.82       231\n",
            "           F       0.81      0.84      0.82       221\n",
            "           G       0.81      0.84      0.82       232\n",
            "           H       0.77      0.80      0.79       218\n",
            "           I       0.89      0.88      0.88       238\n",
            "           J       0.88      0.88      0.88       215\n",
            "           K       0.82      0.85      0.84       231\n",
            "           L       0.93      0.89      0.91       212\n",
            "           M       0.88      0.93      0.91       241\n",
            "           N       0.90      0.90      0.90       240\n",
            "           O       0.83      0.81      0.82       244\n",
            "           P       0.90      0.81      0.85       237\n",
            "           Q       0.83      0.84      0.83       228\n",
            "           R       0.83      0.83      0.83       246\n",
            "           S       0.89      0.80      0.84       245\n",
            "           T       0.90      0.87      0.88       240\n",
            "           U       0.94      0.89      0.92       257\n",
            "           V       0.94      0.89      0.91       218\n",
            "           W       0.91      0.94      0.93       228\n",
            "           X       0.88      0.92      0.90       235\n",
            "           Y       0.90      0.92      0.91       224\n",
            "           Z       0.90      0.88      0.89       201\n",
            "\n",
            "    accuracy                           0.87      6000\n",
            "   macro avg       0.87      0.87      0.87      6000\n",
            "weighted avg       0.87      0.87      0.87      6000\n",
            "\n"
          ]
        }
      ]
    },
    {
      "cell_type": "markdown",
      "source": [
        "Train, make predictions and evaluate Random Forest model"
      ],
      "metadata": {
        "id": "U1IeZ_8yb6aV"
      }
    },
    {
      "cell_type": "code",
      "source": [
        "rfModel = RandomForestClassifier()\n",
        "\n",
        "# Train\n",
        "rfModel.fit(X_train, y_train)\n",
        "\n",
        "# Make predictions\n",
        "yPredRf = rfModel.predict(X_test)\n",
        "\n",
        "# Evaluate\n",
        "accuracy_rf = accuracy_score(y_test, yPredRf)\n",
        "print(f\"Random Forest Classifier Accuracy: {accuracy_rf:.4f}\")\n",
        "print(\"Classification Report:\\n\", classification_report(y_test, yPredRf, target_names=le.classes_))\n",
        "#print(\"Confusion Matrix:\\n\", confusion_matrix(y_test, yPredRf))"
      ],
      "metadata": {
        "colab": {
          "base_uri": "https://localhost:8080/"
        },
        "id": "gYNy1cXW60ZO",
        "outputId": "a8c75028-cf24-4174-d623-24b39dcc376b"
      },
      "execution_count": null,
      "outputs": [
        {
          "output_type": "stream",
          "name": "stdout",
          "text": [
            "Random Forest Classifier Accuracy: 0.9585\n",
            "Classification Report:\n",
            "               precision    recall  f1-score   support\n",
            "\n",
            "           A       0.99      0.99      0.99       227\n",
            "           B       0.92      0.95      0.94       229\n",
            "           C       1.00      0.96      0.98       221\n",
            "           D       0.88      0.98      0.93       241\n",
            "           E       0.95      0.94      0.94       231\n",
            "           F       0.93      0.95      0.94       221\n",
            "           G       0.93      0.96      0.94       232\n",
            "           H       0.97      0.87      0.92       218\n",
            "           I       0.95      0.95      0.95       238\n",
            "           J       0.96      0.93      0.95       215\n",
            "           K       0.92      0.94      0.93       231\n",
            "           L       0.98      0.97      0.97       212\n",
            "           M       0.98      0.99      0.98       241\n",
            "           N       0.97      0.96      0.96       240\n",
            "           O       0.97      0.94      0.95       244\n",
            "           P       0.98      0.92      0.95       237\n",
            "           Q       0.96      0.98      0.97       228\n",
            "           R       0.90      0.96      0.93       246\n",
            "           S       0.97      0.94      0.96       245\n",
            "           T       0.99      0.97      0.98       240\n",
            "           U       0.98      0.98      0.98       257\n",
            "           V       0.98      0.96      0.97       218\n",
            "           W       0.98      0.99      0.99       228\n",
            "           X       0.96      0.98      0.97       235\n",
            "           Y       0.96      0.98      0.97       224\n",
            "           Z       0.99      0.96      0.97       201\n",
            "\n",
            "    accuracy                           0.96      6000\n",
            "   macro avg       0.96      0.96      0.96      6000\n",
            "weighted avg       0.96      0.96      0.96      6000\n",
            "\n"
          ]
        }
      ]
    }
  ]
}