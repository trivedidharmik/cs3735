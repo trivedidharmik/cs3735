{
  "nbformat": 4,
  "nbformat_minor": 0,
  "metadata": {
    "colab": {
      "provenance": [],
      "authorship_tag": "ABX9TyO/Naz6mg5IijE5TjrHsNoA",
      "include_colab_link": true
    },
    "kernelspec": {
      "name": "python3",
      "display_name": "Python 3"
    },
    "language_info": {
      "name": "python"
    }
  },
  "cells": [
    {
      "cell_type": "markdown",
      "metadata": {
        "id": "view-in-github",
        "colab_type": "text"
      },
      "source": [
        "<a href=\"https://colab.research.google.com/github/trivedidharmik/cs3735/blob/main/Trivedi_Dharmik_Asmt3Part1.ipynb\" target=\"_parent\"><img src=\"https://colab.research.google.com/assets/colab-badge.svg\" alt=\"Open In Colab\"/></a>"
      ]
    },
    {
      "cell_type": "markdown",
      "source": [
        "Imports"
      ],
      "metadata": {
        "id": "noLUIratYzvj"
      }
    },
    {
      "cell_type": "code",
      "execution_count": null,
      "metadata": {
        "id": "bqarXFaeYLqF"
      },
      "outputs": [],
      "source": [
        "import pandas as pd\n",
        "from sklearn.model_selection import train_test_split\n",
        "from sklearn.preprocessing import StandardScaler\n",
        "from sklearn.neural_network import MLPClassifier\n",
        "from sklearn.metrics import accuracy_score\n",
        "from google.colab import drive"
      ]
    },
    {
      "cell_type": "markdown",
      "source": [
        "Breast Cancer Data"
      ],
      "metadata": {
        "id": "SZ3aRrMcY11b"
      }
    },
    {
      "cell_type": "code",
      "source": [
        "# Load dataset from UCI URL\n",
        "url = \"https://archive.ics.uci.edu/ml/machine-learning-databases/breast-cancer-wisconsin/wdbc.data\"\n",
        "column_names = [\"id\", \"diagnosis\"] + [f\"feature_{i}\" for i in range(1, 31)]\n",
        "data = pd.read_csv(url, header=None, names=column_names)\n",
        "\n",
        "# Separate features (X) and labels (y)\n",
        "X = data.drop([\"id\", \"diagnosis\"], axis=1)\n",
        "y = data[\"diagnosis\"].map({\"M\": 1, \"B\": 0})"
      ],
      "metadata": {
        "id": "Xy4PTMIaYHAQ"
      },
      "execution_count": null,
      "outputs": []
    },
    {
      "cell_type": "markdown",
      "source": [
        "Split the data and standardize features"
      ],
      "metadata": {
        "id": "h-rz2_T5ZBvW"
      }
    },
    {
      "cell_type": "code",
      "source": [
        "# Split into train/test sets\n",
        "X_train, X_test, y_train, y_test = train_test_split(X, y, test_size=0.2, random_state=42)\n",
        "\n",
        "scaler = StandardScaler()\n",
        "X_train_scaled = scaler.fit_transform(X_train)\n",
        "X_test_scaled = scaler.transform(X_test)"
      ],
      "metadata": {
        "id": "8KWg_uUCYMhl"
      },
      "execution_count": null,
      "outputs": []
    },
    {
      "cell_type": "markdown",
      "source": [
        "Train and evaluate MLPClassifier"
      ],
      "metadata": {
        "id": "O7WHJ78xZI6_"
      }
    },
    {
      "cell_type": "code",
      "source": [
        "# Train\n",
        "mlp = MLPClassifier(random_state=42)\n",
        "mlp.fit(X_train_scaled, y_train)\n",
        "\n",
        "# Evaluate\n",
        "y_pred = mlp.predict(X_test_scaled)\n",
        "print(f\"Accuracy (Breast Cancer): {accuracy_score(y_test, y_pred):.4f}\")"
      ],
      "metadata": {
        "colab": {
          "base_uri": "https://localhost:8080/"
        },
        "id": "oBv8KiakYQRY",
        "outputId": "04f96f9f-8956-4af5-b143-b445d4d37080"
      },
      "execution_count": null,
      "outputs": [
        {
          "output_type": "stream",
          "name": "stdout",
          "text": [
            "Accuracy (Breast Cancer): 0.9649\n"
          ]
        },
        {
          "output_type": "stream",
          "name": "stderr",
          "text": [
            "/usr/local/lib/python3.11/dist-packages/sklearn/neural_network/_multilayer_perceptron.py:691: ConvergenceWarning: Stochastic Optimizer: Maximum iterations (200) reached and the optimization hasn't converged yet.\n",
            "  warnings.warn(\n"
          ]
        }
      ]
    },
    {
      "cell_type": "markdown",
      "source": [
        "Digit Recognizer Data"
      ],
      "metadata": {
        "id": "0uyD98gvZO3N"
      }
    },
    {
      "cell_type": "code",
      "source": [
        "# Mount Google Drive\n",
        "drive.mount(\"/content/drive\", force_remount=True)\n",
        "\n",
        "# Load training data (train.csv)\n",
        "train_file = '/content/drive/My Drive/datasets/train.csv'\n",
        "train_df = pd.read_csv(train_file)\n",
        "X = train_df.drop(columns='label').values  # Pixel values\n",
        "y = train_df['label'].values              # Labels"
      ],
      "metadata": {
        "id": "urC36YWYa2tg",
        "outputId": "a8eedd09-3d25-4165-ac85-4ecdd950c1b7",
        "colab": {
          "base_uri": "https://localhost:8080/"
        }
      },
      "execution_count": null,
      "outputs": [
        {
          "output_type": "stream",
          "name": "stdout",
          "text": [
            "Mounted at /content/drive\n"
          ]
        }
      ]
    },
    {
      "cell_type": "markdown",
      "source": [
        "Split the data"
      ],
      "metadata": {
        "id": "BzMNoaFnZZDr"
      }
    },
    {
      "cell_type": "code",
      "source": [
        "X_train, X_val, y_train, y_val = train_test_split(X, y, test_size=0.2, random_state=42)\n",
        "\n",
        "X_train = X_train / 255.0\n",
        "X_val = X_val / 255.0"
      ],
      "metadata": {
        "id": "-YJa3aC_Yg79"
      },
      "execution_count": null,
      "outputs": []
    },
    {
      "cell_type": "markdown",
      "source": [
        "Train and evaluate the model"
      ],
      "metadata": {
        "id": "c67nxbPqZdoy"
      }
    },
    {
      "cell_type": "code",
      "source": [
        "mlp = MLPClassifier(random_state=42)\n",
        "mlp.fit(X_train, y_train)\n",
        "\n",
        "y_val_pred = mlp.predict(X_val)\n",
        "print(f\"Validation Accuracy (Digit Recognizer): {accuracy_score(y_val, y_val_pred):.4f}\")"
      ],
      "metadata": {
        "id": "JkXL6ynfYiNh",
        "colab": {
          "base_uri": "https://localhost:8080/"
        },
        "outputId": "7192fff1-02fa-40b1-b457-8c3be4a88b45"
      },
      "execution_count": null,
      "outputs": [
        {
          "output_type": "stream",
          "name": "stdout",
          "text": [
            "Validation Accuracy (Digit Recognizer): 0.9743\n"
          ]
        }
      ]
    }
  ]
}