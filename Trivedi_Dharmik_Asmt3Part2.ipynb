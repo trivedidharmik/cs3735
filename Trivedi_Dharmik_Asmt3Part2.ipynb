{
  "nbformat": 4,
  "nbformat_minor": 0,
  "metadata": {
    "colab": {
      "provenance": [],
      "authorship_tag": "ABX9TyMSNHRLcGmNOreOyDuTMQkg",
      "include_colab_link": true
    },
    "kernelspec": {
      "name": "python3",
      "display_name": "Python 3"
    },
    "language_info": {
      "name": "python"
    }
  },
  "cells": [
    {
      "cell_type": "markdown",
      "metadata": {
        "id": "view-in-github",
        "colab_type": "text"
      },
      "source": [
        "<a href=\"https://colab.research.google.com/github/trivedidharmik/cs3735/blob/main/Trivedi_Dharmik_Asmt3Part2.ipynb\" target=\"_parent\"><img src=\"https://colab.research.google.com/assets/colab-badge.svg\" alt=\"Open In Colab\"/></a>"
      ]
    },
    {
      "cell_type": "markdown",
      "source": [
        "Imports"
      ],
      "metadata": {
        "id": "gf7F5tU1bTwn"
      }
    },
    {
      "cell_type": "code",
      "execution_count": null,
      "metadata": {
        "id": "RIy3En-sipSq"
      },
      "outputs": [],
      "source": [
        "import pandas as pd\n",
        "from sklearn.model_selection import train_test_split\n",
        "from sklearn.preprocessing import StandardScaler\n",
        "from sklearn.neural_network import MLPClassifier\n",
        "from sklearn.metrics import accuracy_score\n",
        "from google.colab import drive\n",
        "from joblib import Parallel, delayed\n",
        "# Store results\n",
        "results = []"
      ]
    },
    {
      "cell_type": "markdown",
      "source": [
        "Load Breast Cancer data"
      ],
      "metadata": {
        "id": "tN4yYjFrbVd6"
      }
    },
    {
      "cell_type": "code",
      "source": [
        "# Load Breast Cancer data\n",
        "url = \"https://archive.ics.uci.edu/ml/machine-learning-databases/breast-cancer-wisconsin/wdbc.data\"\n",
        "column_names = [\"id\", \"diagnosis\"] + [f\"feature_{i}\" for i in range(1, 31)]\n",
        "data = pd.read_csv(url, header=None, names=column_names)\n",
        "X = data.drop([\"id\", \"diagnosis\"], axis=1)\n",
        "y = data[\"diagnosis\"].map({\"M\": 1, \"B\": 0})"
      ],
      "metadata": {
        "id": "Ts29HBd2Z4cN"
      },
      "execution_count": null,
      "outputs": []
    },
    {
      "cell_type": "markdown",
      "source": [
        "Preprocess the data and set the hyperparameters"
      ],
      "metadata": {
        "id": "HHKpLzlsbX6_"
      }
    },
    {
      "cell_type": "code",
      "source": [
        "X_train, X_test, y_train, y_test = train_test_split(X, y, test_size=0.2, random_state=42)\n",
        "scaler = StandardScaler()\n",
        "X_train_scaled = scaler.fit_transform(X_train)\n",
        "X_test_scaled = scaler.transform(X_test)\n",
        "\n",
        "structures = [\n",
        "    (64, 64),\n",
        "    (128, 128),\n",
        "    (64, 64, 64),\n",
        "    (128, 128, 128)\n",
        "]\n",
        "activations = ['logistic', 'tanh', 'relu']\n",
        "solvers = ['adam', 'sgd']"
      ],
      "metadata": {
        "id": "ZrrFRNQ4Z-sO"
      },
      "execution_count": null,
      "outputs": []
    },
    {
      "cell_type": "markdown",
      "source": [
        "Run the experiments and return results dataframe"
      ],
      "metadata": {
        "id": "JnewaVp7bdru"
      }
    },
    {
      "cell_type": "code",
      "source": [
        "# Experiments\n",
        "for hidden_layer_sizes in structures:\n",
        "    for activation in activations:\n",
        "        for solver in solvers:\n",
        "            mlp = MLPClassifier(\n",
        "                hidden_layer_sizes=hidden_layer_sizes,\n",
        "                activation=activation,\n",
        "                solver=solver,\n",
        "                random_state=42,\n",
        "                max_iter=2000,\n",
        "                tol=1e-4,\n",
        "                early_stopping=False\n",
        "            )\n",
        "            mlp.fit(X_train_scaled, y_train)\n",
        "            y_pred = mlp.predict(X_test_scaled)\n",
        "            acc = accuracy_score(y_test, y_pred)\n",
        "            results.append({\n",
        "                'Structure': f\"{len(hidden_layer_sizes)} layers {hidden_layer_sizes}\",\n",
        "                'Activation': activation,\n",
        "                'Optimizer': solver,\n",
        "                'Accuracy': f\"{acc:.4f}\"\n",
        "            })\n",
        "results_df = pd.DataFrame(results)\n",
        "print(\"\\n (Breast Cancer Data) Results Table:\")\n",
        "print(results_df.to_markdown(index=False))"
      ],
      "metadata": {
        "id": "SAW3p35QaRnh",
        "colab": {
          "base_uri": "https://localhost:8080/"
        },
        "outputId": "2c538718-1f73-4bbd-cf0f-6a52b5dfa322"
      },
      "execution_count": null,
      "outputs": [
        {
          "output_type": "stream",
          "name": "stdout",
          "text": [
            "\n",
            " (Breast Cancer Data) Results Table:\n",
            "| Structure                | Activation   | Optimizer   |   Accuracy |\n",
            "|:-------------------------|:-------------|:------------|-----------:|\n",
            "| 2 layers (64, 64)        | logistic     | adam        |     0.9825 |\n",
            "| 2 layers (64, 64)        | logistic     | sgd         |     0.9825 |\n",
            "| 2 layers (64, 64)        | tanh         | adam        |     0.9737 |\n",
            "| 2 layers (64, 64)        | tanh         | sgd         |     0.9912 |\n",
            "| 2 layers (64, 64)        | relu         | adam        |     0.9737 |\n",
            "| 2 layers (64, 64)        | relu         | sgd         |     0.9649 |\n",
            "| 2 layers (128, 128)      | logistic     | adam        |     0.9825 |\n",
            "| 2 layers (128, 128)      | logistic     | sgd         |     0.9737 |\n",
            "| 2 layers (128, 128)      | tanh         | adam        |     0.9649 |\n",
            "| 2 layers (128, 128)      | tanh         | sgd         |     0.9825 |\n",
            "| 2 layers (128, 128)      | relu         | adam        |     0.9737 |\n",
            "| 2 layers (128, 128)      | relu         | sgd         |     0.9737 |\n",
            "| 3 layers (64, 64, 64)    | logistic     | adam        |     0.9737 |\n",
            "| 3 layers (64, 64, 64)    | logistic     | sgd         |     0.6228 |\n",
            "| 3 layers (64, 64, 64)    | tanh         | adam        |     0.9737 |\n",
            "| 3 layers (64, 64, 64)    | tanh         | sgd         |     0.9912 |\n",
            "| 3 layers (64, 64, 64)    | relu         | adam        |     0.9737 |\n",
            "| 3 layers (64, 64, 64)    | relu         | sgd         |     0.9649 |\n",
            "| 3 layers (128, 128, 128) | logistic     | adam        |     0.9737 |\n",
            "| 3 layers (128, 128, 128) | logistic     | sgd         |     0.6228 |\n",
            "| 3 layers (128, 128, 128) | tanh         | adam        |     0.9737 |\n",
            "| 3 layers (128, 128, 128) | tanh         | sgd         |     0.9737 |\n",
            "| 3 layers (128, 128, 128) | relu         | adam        |     0.9649 |\n",
            "| 3 layers (128, 128, 128) | relu         | sgd         |     0.9561 |\n"
          ]
        }
      ]
    },
    {
      "cell_type": "markdown",
      "source": [
        "Mount drive and load data for Digit Recognizer"
      ],
      "metadata": {
        "id": "GlKT5d21bm6U"
      }
    },
    {
      "cell_type": "code",
      "source": [
        "drive.mount(\"/content/drive\", force_remount=True)\n",
        "\n",
        "\n",
        "# Load and preprocess data once (outside the loop)\n",
        "train_file = '/content/drive/My Drive/datasets/train.csv'\n",
        "train_df = pd.read_csv(train_file)\n",
        "X = train_df.drop(columns='label').values / 255.0\n",
        "y = train_df['label'].values\n",
        "X_train, X_val, y_train, y_val = train_test_split(X, y, test_size=0.2, random_state=42)\n",
        "\n",
        "# Define a training function\n",
        "def train_digit_model(hidden_layer_sizes, activation, solver):\n",
        "    mlp = MLPClassifier(\n",
        "        hidden_layer_sizes=hidden_layer_sizes,\n",
        "        activation=activation,\n",
        "        solver=solver,\n",
        "        early_stopping=True,\n",
        "        validation_fraction=0.1,\n",
        "        max_iter=500,\n",
        "        tol=1e-3,\n",
        "        random_state=42\n",
        "    )\n",
        "    mlp.fit(X_train, y_train)\n",
        "    acc = accuracy_score(y_val, mlp.predict(X_val))\n",
        "    return {\n",
        "        'Structure': f\"{len(hidden_layer_sizes)} layers {hidden_layer_sizes}\",\n",
        "        'Activation': activation,\n",
        "        'Optimizer': solver,\n",
        "        'Accuracy': f\"{acc:.4f}\"\n",
        "    }\n",
        "\n",
        "# Run experiments in parallel\n",
        "digit_results = Parallel(n_jobs=4)(\n",
        "    delayed(train_digit_model)(hidden, act, solv)\n",
        "    for hidden in structures\n",
        "    for act in activations\n",
        "    for solv in solvers\n",
        ")\n",
        "\n",
        "results_df = pd.DataFrame(digit_results)\n",
        "print(\"\\n (Breast Cancer Data) Results Table:\")\n",
        "print(results_df.to_markdown(index=False))"
      ],
      "metadata": {
        "colab": {
          "base_uri": "https://localhost:8080/"
        },
        "id": "45vXVLxFwfS2",
        "outputId": "89ddaceb-8cf5-4d4a-8937-88de244e641f"
      },
      "execution_count": null,
      "outputs": [
        {
          "output_type": "stream",
          "name": "stdout",
          "text": [
            "Mounted at /content/drive\n",
            "\n",
            " (Breast Cancer Data) Results Table:\n",
            "| Structure                | Activation   | Optimizer   |   Accuracy |\n",
            "|:-------------------------|:-------------|:------------|-----------:|\n",
            "| 2 layers (64, 64)        | logistic     | adam        |     0.9637 |\n",
            "| 2 layers (64, 64)        | logistic     | sgd         |     0.3969 |\n",
            "| 2 layers (64, 64)        | tanh         | adam        |     0.9677 |\n",
            "| 2 layers (64, 64)        | tanh         | sgd         |     0.9248 |\n",
            "| 2 layers (64, 64)        | relu         | adam        |     0.9661 |\n",
            "| 2 layers (64, 64)        | relu         | sgd         |     0.9465 |\n",
            "| 2 layers (128, 128)      | logistic     | adam        |     0.9706 |\n",
            "| 2 layers (128, 128)      | logistic     | sgd         |     0.8881 |\n",
            "| 2 layers (128, 128)      | tanh         | adam        |     0.9715 |\n",
            "| 2 layers (128, 128)      | tanh         | sgd         |     0.9461 |\n",
            "| 2 layers (128, 128)      | relu         | adam        |     0.9714 |\n",
            "| 2 layers (128, 128)      | relu         | sgd         |     0.9538 |\n",
            "| 3 layers (64, 64, 64)    | logistic     | adam        |     0.9627 |\n",
            "| 3 layers (64, 64, 64)    | logistic     | sgd         |     0.1082 |\n",
            "| 3 layers (64, 64, 64)    | tanh         | adam        |     0.9682 |\n",
            "| 3 layers (64, 64, 64)    | tanh         | sgd         |     0.942  |\n",
            "| 3 layers (64, 64, 64)    | relu         | adam        |     0.9708 |\n",
            "| 3 layers (64, 64, 64)    | relu         | sgd         |     0.9564 |\n",
            "| 3 layers (128, 128, 128) | logistic     | adam        |     0.9685 |\n",
            "| 3 layers (128, 128, 128) | logistic     | sgd         |     0.1082 |\n",
            "| 3 layers (128, 128, 128) | tanh         | adam        |     0.9721 |\n",
            "| 3 layers (128, 128, 128) | tanh         | sgd         |     0.9456 |\n",
            "| 3 layers (128, 128, 128) | relu         | adam        |     0.9726 |\n",
            "| 3 layers (128, 128, 128) | relu         | sgd         |     0.953  |\n"
          ]
        }
      ]
    }
  ]
}